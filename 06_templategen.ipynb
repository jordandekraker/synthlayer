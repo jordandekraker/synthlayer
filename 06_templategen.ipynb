{
 "cells": [
  {
   "cell_type": "code",
   "execution_count": 1,
   "metadata": {},
   "outputs": [],
   "source": [
    "fns = [\"labelmaps/sub-122017_L_bg-0_.nii.gz\",\n",
    "    \"labelmaps/sub-122017_R_bg-0_flip.nii.gz\",\n",
    "    \"labelmaps/sub-152017_L_bg-0_.nii.gz\",\n",
    "    \"labelmaps/sub-152017_R_bg-0_flip.nii.gz\",\n",
    "    \"labelmaps/sub-bbhist_L_bg-0_.nii.gz\",\n",
    "    \"labelmaps/sub-bbhist_R_bg-0_flip.nii.gz\",\n",
    "    \"labelmaps/sub-pli3d_L_bg-0_.nii.gz\",]"
   ]
  },
  {
   "cell_type": "code",
   "execution_count": 2,
   "metadata": {},
   "outputs": [
    {
     "name": "stderr",
     "output_type": "stream",
     "text": [
      "Exception caught of type 16ConvertException\n",
      "  Exception detail: Unable to read image labelmaps/sub-122017_L_bg-0_.nii.gz; IO factory can not create IO object.\n"
     ]
    },
    {
     "ename": "CalledProcessError",
     "evalue": "Command '['c3d', 'labelmaps/sub-122017_L_bg-0_.nii.gz', '-flip', 'x', '-o', 'layertemplate/tmp_0.nii.gz']' returned non-zero exit status 255.",
     "output_type": "error",
     "traceback": [
      "\u001b[0;31m---------------------------------------------------------------------------\u001b[0m",
      "\u001b[0;31mCalledProcessError\u001b[0m                        Traceback (most recent call last)",
      "Cell \u001b[0;32mIn[2], line 23\u001b[0m\n\u001b[1;32m     20\u001b[0m out_fn \u001b[38;5;241m=\u001b[39m os\u001b[38;5;241m.\u001b[39mpath\u001b[38;5;241m.\u001b[39mjoin(output_dir, \u001b[38;5;124mf\u001b[39m\u001b[38;5;124m'\u001b[39m\u001b[38;5;124mtmp_\u001b[39m\u001b[38;5;132;01m{\u001b[39;00mi\u001b[38;5;132;01m}\u001b[39;00m\u001b[38;5;124m.nii.gz\u001b[39m\u001b[38;5;124m'\u001b[39m)\n\u001b[1;32m     22\u001b[0m \u001b[38;5;28;01mif\u001b[39;00m hemi[\u001b[38;5;241m-\u001b[39m\u001b[38;5;241m1\u001b[39m] \u001b[38;5;241m==\u001b[39m \u001b[38;5;124m'\u001b[39m\u001b[38;5;124mL\u001b[39m\u001b[38;5;124m'\u001b[39m:\n\u001b[0;32m---> 23\u001b[0m     \u001b[43msubprocess\u001b[49m\u001b[38;5;241;43m.\u001b[39;49m\u001b[43mrun\u001b[49m\u001b[43m(\u001b[49m\u001b[43m[\u001b[49m\u001b[38;5;124;43m'\u001b[39;49m\u001b[38;5;124;43mc3d\u001b[39;49m\u001b[38;5;124;43m'\u001b[39;49m\u001b[43m,\u001b[49m\u001b[43m \u001b[49m\u001b[43mfn\u001b[49m\u001b[43m,\u001b[49m\u001b[43m \u001b[49m\u001b[38;5;124;43m'\u001b[39;49m\u001b[38;5;124;43m-flip\u001b[39;49m\u001b[38;5;124;43m'\u001b[39;49m\u001b[43m,\u001b[49m\u001b[43m \u001b[49m\u001b[38;5;124;43m'\u001b[39;49m\u001b[38;5;124;43mx\u001b[39;49m\u001b[38;5;124;43m'\u001b[39;49m\u001b[43m,\u001b[49m\u001b[43m \u001b[49m\u001b[38;5;124;43m'\u001b[39;49m\u001b[38;5;124;43m-o\u001b[39;49m\u001b[38;5;124;43m'\u001b[39;49m\u001b[43m,\u001b[49m\u001b[43m \u001b[49m\u001b[43mout_fn\u001b[49m\u001b[43m]\u001b[49m\u001b[43m,\u001b[49m\u001b[43m \u001b[49m\u001b[43mcheck\u001b[49m\u001b[38;5;241;43m=\u001b[39;49m\u001b[38;5;28;43;01mTrue\u001b[39;49;00m\u001b[43m)\u001b[49m\n\u001b[1;32m     24\u001b[0m \u001b[38;5;28;01melse\u001b[39;00m:\n\u001b[1;32m     25\u001b[0m     shutil\u001b[38;5;241m.\u001b[39mcopy(fn, out_fn)\n",
      "File \u001b[0;32m/host/cassio/export03/data/opt/miniconda3/envs/hippunfold-dev/lib/python3.12/subprocess.py:571\u001b[0m, in \u001b[0;36mrun\u001b[0;34m(input, capture_output, timeout, check, *popenargs, **kwargs)\u001b[0m\n\u001b[1;32m    569\u001b[0m     retcode \u001b[38;5;241m=\u001b[39m process\u001b[38;5;241m.\u001b[39mpoll()\n\u001b[1;32m    570\u001b[0m     \u001b[38;5;28;01mif\u001b[39;00m check \u001b[38;5;129;01mand\u001b[39;00m retcode:\n\u001b[0;32m--> 571\u001b[0m         \u001b[38;5;28;01mraise\u001b[39;00m CalledProcessError(retcode, process\u001b[38;5;241m.\u001b[39margs,\n\u001b[1;32m    572\u001b[0m                                  output\u001b[38;5;241m=\u001b[39mstdout, stderr\u001b[38;5;241m=\u001b[39mstderr)\n\u001b[1;32m    573\u001b[0m \u001b[38;5;28;01mreturn\u001b[39;00m CompletedProcess(process\u001b[38;5;241m.\u001b[39margs, retcode, stdout, stderr)\n",
      "\u001b[0;31mCalledProcessError\u001b[0m: Command '['c3d', 'labelmaps/sub-122017_L_bg-0_.nii.gz', '-flip', 'x', '-o', 'layertemplate/tmp_0.nii.gz']' returned non-zero exit status 255."
     ]
    }
   ],
   "source": [
    "import os\n",
    "import shutil\n",
    "import subprocess\n",
    "from glob import glob\n",
    "\n",
    "# Create clean output directory\n",
    "output_dir = 'layertemplate'\n",
    "os.makedirs(output_dir, exist_ok=True)\n",
    "\n",
    "# Clear existing contents\n",
    "for f in glob(os.path.join(output_dir, '*')):\n",
    "    os.remove(f)\n",
    "\n",
    "# Open templatelist file for writing\n",
    "csv_path = os.path.join(output_dir, 'templatelist.csv')\n",
    "with open(csv_path, 'w') as csv_file:\n",
    "    for i, fn in enumerate(fns):\n",
    "        sub, hemi = os.path.basename(fn).split('_')[:2]\n",
    "\n",
    "        out_fn = os.path.join(output_dir, f'tmp_{i}.nii.gz')\n",
    "\n",
    "        if hemi[-1] == 'L':\n",
    "            subprocess.run(['c3d', fn, '-flip', 'x', '-o', out_fn], check=True)\n",
    "        else:\n",
    "            shutil.copy(fn, out_fn)\n",
    "\n",
    "        # Smooth each layer in the volume\n",
    "        split_cmd = [\n",
    "            'c3d', out_fn,\n",
    "            '-split', '-foreach', '-smooth', '0.5x0.5x0.5mm', '-endfor',\n",
    "            '-oo', os.path.join(output_dir, f'sub-{i}_label_%02d.nii.gz')\n",
    "        ]\n",
    "        subprocess.run(split_cmd, check=True)\n",
    "\n",
    "        # Find smoothed label outputs\n",
    "        label_paths = sorted(glob(os.path.join(output_dir, f'sub-{i}_label_*.nii.gz')))\n",
    "        for lbl in label_paths:\n",
    "            csv_file.write(f\"{lbl},\")\n",
    "        csv_file.write(\"\\n\")\n",
    "        for f in glob(os.path.join(output_dir, 'tmp_*.nii.gz')):\n",
    "            os.remove(f)\n"
   ]
  },
  {
   "cell_type": "code",
   "execution_count": null,
   "metadata": {},
   "outputs": [],
   "source": [
    "!export ANTSPATH=/opt/minc/1.9.18/bin/\n",
    "cmd = f\"antsMultivariateTemplateConstruction2.sh -d 3 -o layertemplate/template_ layertemplate/templatelist.csv\"\n",
    "!{cmd}"
   ]
  },
  {
   "cell_type": "code",
   "execution_count": null,
   "metadata": {},
   "outputs": [],
   "source": []
  }
 ],
 "metadata": {
  "kernelspec": {
   "display_name": "venv",
   "language": "python",
   "name": "python3"
  },
  "language_info": {
   "codemirror_mode": {
    "name": "ipython",
    "version": 3
   },
   "file_extension": ".py",
   "mimetype": "text/x-python",
   "name": "python",
   "nbconvert_exporter": "python",
   "pygments_lexer": "ipython3",
   "version": "3.12.10"
  }
 },
 "nbformat": 4,
 "nbformat_minor": 2
}
