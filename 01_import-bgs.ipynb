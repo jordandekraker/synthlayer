{
 "cells": [
  {
   "cell_type": "markdown",
   "metadata": {},
   "source": [
    "Here we will make our labelmaps more realistic by superimposing hippocampal segmentations onto labelmaps from fastsurfer/synthseg\n",
    "\n",
    "We do this for two cases: one with a deep collateral sulcus one one with a split. We also flip our samples so they are each fit onto a left and a right background. Finally, in on case, we also leave the backgroud blank."
   ]
  },
  {
   "cell_type": "code",
   "execution_count": 1,
   "metadata": {},
   "outputs": [],
   "source": [
    "import nibabel as nib\n",
    "import numpy as np\n",
    "from scipy.ndimage import binary_dilation, label"
   ]
  },
  {
   "cell_type": "code",
   "execution_count": 2,
   "metadata": {},
   "outputs": [],
   "source": [
    "import numpy as np\n",
    "from scipy.ndimage import label, find_objects\n",
    "\n",
    "def largest_connected_component(binary_mask):\n",
    "    \"\"\"\n",
    "    Keeps only the largest connected component in a 3D binary mask.\n",
    "\n",
    "    Parameters:\n",
    "    - binary_mask (numpy.ndarray): A 3D binary mask (0s and 1s).\n",
    "\n",
    "    Returns:\n",
    "    - numpy.ndarray: A 3D binary mask with only the largest connected component.\n",
    "    \"\"\"\n",
    "    labeled_array, num_features = label(binary_mask)  # Label connected components\n",
    "    if num_features == 0:\n",
    "        return binary_mask  # No components, return original\n",
    "\n",
    "    # Count voxels in each component\n",
    "    component_sizes = np.bincount(labeled_array.ravel())\n",
    "    component_sizes[0] = 0  # Ignore background (label 0)\n",
    "    \n",
    "    # Get largest component label\n",
    "    largest_label = component_sizes.argmax()\n",
    "\n",
    "    # Create mask of largest component\n",
    "    return (labeled_array == largest_label).astype(binary_mask.dtype)\n"
   ]
  },
  {
   "cell_type": "code",
   "execution_count": 3,
   "metadata": {},
   "outputs": [],
   "source": [
    "subs = ['PNC001', 'PNC004'] # one split collateral sulcus, one deep collateral sulcus"
   ]
  },
  {
   "cell_type": "code",
   "execution_count": 6,
   "metadata": {},
   "outputs": [],
   "source": [
    "!mkdir bgs\n",
    "for sub in subs:\n",
    "    aseg = nib.load(f\"/data/mica3/BIDS_PNI/derivatives/fastsurfer/sub-{sub}_ses-01/mri/aparc.DKTatlas+aseg.mgz\")\n",
    "    T1 = nib.load(f\"/data/mica3/BIDS_PNI/derivatives/fastsurfer/sub-{sub}_ses-01/mri/orig.mgz\").get_fdata()\n",
    "    dat = aseg.get_fdata()\n",
    "\n",
    "    # fill gaps between hipp and neocortex\n",
    "    hippfill = np.logical_and(binary_dilation(dat==17, iterations=3), binary_dilation(dat>1000, iterations=3))\n",
    "    hippfill[dat==2] = 0\n",
    "    hippfill = largest_connected_component(hippfill)\n",
    "    dat[hippfill==1] = 17\n",
    "    hippfill = np.logical_and(binary_dilation(dat==53, iterations=3), binary_dilation(dat>1000, iterations=3))\n",
    "    hippfill[dat==41] = 0\n",
    "    hippfill = largest_connected_component(hippfill)\n",
    "    dat[hippfill==1] = 53\n",
    "\n",
    "    # make sure there is wm between hipp and amygdala\n",
    "    wmfill = np.logical_and(binary_dilation(dat==53, iterations=2), dat==54)\n",
    "    dat[wmfill==1] = 41\n",
    "    wmfill = np.logical_and(binary_dilation(dat==17, iterations=2), dat==18)\n",
    "    dat[wmfill==1] = 2\n",
    "\n",
    "    # simplify some labels\n",
    "    dat[T1<50] = 0 #CSF\n",
    "    dat[T1>240] = 101 #blood\n",
    "\n",
    "    nib.save(nib.Nifti1Image(dat.astype(int),header=aseg.header,affine=aseg.affine), f'bgs/sub-{sub}_ses-01_desc-aparcaseg_preproc.nii.gz')"
   ]
  },
  {
   "cell_type": "code",
   "execution_count": null,
   "metadata": {},
   "outputs": [],
   "source": []
  }
 ],
 "metadata": {
  "kernelspec": {
   "display_name": "venv",
   "language": "python",
   "name": "python3"
  },
  "language_info": {
   "codemirror_mode": {
    "name": "ipython",
    "version": 3
   },
   "file_extension": ".py",
   "mimetype": "text/x-python",
   "name": "python",
   "nbconvert_exporter": "python",
   "pygments_lexer": "ipython3",
   "version": "3.9.7"
  }
 },
 "nbformat": 4,
 "nbformat_minor": 2
}
