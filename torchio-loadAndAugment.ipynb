{
 "cells": [
  {
   "cell_type": "code",
   "execution_count": 27,
   "metadata": {},
   "outputs": [],
   "source": [
    "from pathlib import Path\n",
    "import torchio as tio\n",
    "\n",
    "labelmap_paths = sorted(Path('labelmaps').glob('*.nii.gz'))\n",
    "subjects = []\n",
    "\n",
    "for path in labelmap_paths:\n",
    "    subject = tio.Subject(\n",
    "        labelmap=tio.LabelMap(path)\n",
    "    )\n",
    "    subjects.append(subject)\n",
    "\n",
    "dataset = tio.SubjectsDataset(subjects)\n"
   ]
  },
  {
   "cell_type": "code",
   "execution_count": 28,
   "metadata": {},
   "outputs": [],
   "source": [
    "class GenerateSyntheticMRI(tio.Transform):\n",
    "    def __init__(self, label_range=(1, 6), shared_mean=100.0, shared_std=10.0):\n",
    "        super().__init__()\n",
    "        self.label_range = label_range\n",
    "        self.shared_mean = float(shared_mean)\n",
    "        self.shared_std = float(shared_std)\n",
    "\n",
    "    def apply_transform(self, subject):\n",
    "        label_tensor = subject['labelmap'].data.clone()\n",
    "        synthetic_tensor = torch.zeros_like(label_tensor).float()  # Force float32\n",
    "\n",
    "        labels = torch.unique(label_tensor).tolist()\n",
    "        for label in labels:\n",
    "            if label == 0:\n",
    "                continue\n",
    "            mask = label_tensor == label\n",
    "\n",
    "            # Create intensity values\n",
    "            if self.label_range[0] <= label <= self.label_range[1]:\n",
    "                values = torch.randn_like(mask.float()) * self.shared_std + self.shared_mean\n",
    "            else:\n",
    "                mean = float(np.random.uniform(50, 150))\n",
    "                std = float(np.random.uniform(5, 20))\n",
    "                values = torch.randn_like(mask.float()) * std + mean\n",
    "\n",
    "            values = values.float()  # Explicitly cast to float32\n",
    "            synthetic_tensor[mask] = values[mask]\n",
    "\n",
    "        subject['image'] = tio.ScalarImage(tensor=synthetic_tensor, affine=subject['labelmap'].affine)\n",
    "        return subject\n"
   ]
  },
  {
   "cell_type": "code",
   "execution_count": 29,
   "metadata": {},
   "outputs": [],
   "source": [
    "class RandomResample(tio.Transform):\n",
    "    def __init__(self, min_spacing=(.2, .2, .2), max_spacing=(1.0, 1.0, 1.0), p=1.0):\n",
    "        super().__init__(p=p)\n",
    "        self.min_spacing = np.array(min_spacing)\n",
    "        self.max_spacing = np.array(max_spacing)\n",
    "\n",
    "    def apply_transform(self, subject):\n",
    "        random_spacing = np.random.uniform(self.min_spacing, self.max_spacing)\n",
    "        resample = tio.Resample(random_spacing, image_interpolation='linear', exclude=['labelmap'])\n",
    "        return resample(subject)\n"
   ]
  },
  {
   "cell_type": "code",
   "execution_count": 30,
   "metadata": {},
   "outputs": [],
   "source": [
    "transform = tio.Compose([\n",
    "    # 1. Anatomical deformations applied to labelmap (and carried over to synthetic image)\n",
    "    tio.RandomAffine(scales=(0.95, 1.05), degrees=10, translation=5, p=0.75),\n",
    "    tio.RandomElasticDeformation(num_control_points=7, max_displacement=7.5, p=0.5),\n",
    "\n",
    "    # 2. Generate synthetic image from deformed labelmap\n",
    "    GenerateSyntheticMRI(),\n",
    "\n",
    "    # 3. Simulate acquisition: spatial resolution loss only to image\n",
    "    RandomResample( min_spacing=(.2, .2, .2), max_spacing=(1.0, 1.0, 1.0), p=1.0),\n",
    "\n",
    "    # 4. MRI acquisition-like artifacts (image only)\n",
    "    tio.RandomMotion(p=0.3, exclude=['labelmap']),\n",
    "    tio.RandomGhosting(p=0.2, exclude=['labelmap']),\n",
    "    tio.RandomSpike(p=0.2, exclude=['labelmap']),\n",
    "    tio.RandomBiasField(p=0.3, exclude=['labelmap']),\n",
    "    tio.RandomNoise(p=0.2, mean=0.0, std=(0, 0.05), exclude=['labelmap']),\n",
    "    tio.RandomBlur(p=0.2, std=(0.25, 1.0), exclude=['labelmap']),\n",
    "    tio.RandomGamma(log_gamma=(-0.3, 0.3), p=0.2, exclude=['labelmap']),\n",
    "    tio.RandomAnisotropy(p=0.2, downsampling=(1, 4), exclude=['labelmap']),\n",
    "])\n"
   ]
  },
  {
   "cell_type": "code",
   "execution_count": 31,
   "metadata": {},
   "outputs": [],
   "source": [
    "augmented_dataset = tio.SubjectsDataset(subjects, transform=transform)\n",
    "loader = torch.utils.data.DataLoader(augmented_dataset, batch_size=1, shuffle=True)\n"
   ]
  },
  {
   "cell_type": "code",
   "execution_count": 32,
   "metadata": {},
   "outputs": [],
   "source": [
    "from pathlib import Path\n",
    "\n",
    "def save_samples(dataset, output_dir='output_samples', n=10):\n",
    "    output_dir = Path(output_dir)\n",
    "    output_dir.mkdir(parents=True, exist_ok=True)\n",
    "\n",
    "    for i, subject in enumerate(dataset):\n",
    "        if i >= n:\n",
    "            break\n",
    "        subject['image'].save(output_dir / f'image_{i:03}.nii.gz')\n",
    "        subject['labelmap'].save(output_dir / f'label_{i:03}.nii.gz')\n"
   ]
  },
  {
   "cell_type": "code",
   "execution_count": 33,
   "metadata": {},
   "outputs": [
    {
     "name": "stderr",
     "output_type": "stream",
     "text": [
      "/host/cassio/export03/data/opt/miniconda3/envs/hippunfold-dev/lib/python3.12/site-packages/torchio/transforms/augmentation/intensity/random_spike.py:162: ComplexWarning: Casting complex values to real discards the imaginary part\n",
      "  spectrum[i, j, k] += artifact\n"
     ]
    }
   ],
   "source": [
    "save_samples(augmented_dataset, n=10)\n"
   ]
  }
 ],
 "metadata": {
  "kernelspec": {
   "display_name": "venv",
   "language": "python",
   "name": "python3"
  },
  "language_info": {
   "codemirror_mode": {
    "name": "ipython",
    "version": 3
   },
   "file_extension": ".py",
   "mimetype": "text/x-python",
   "name": "python",
   "nbconvert_exporter": "python",
   "pygments_lexer": "ipython3",
   "version": "3.12.10"
  }
 },
 "nbformat": 4,
 "nbformat_minor": 2
}
