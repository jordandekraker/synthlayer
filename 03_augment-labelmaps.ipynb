{
 "cells": [
  {
   "cell_type": "markdown",
   "metadata": {},
   "source": [
    "Since we are working with ex-vivo samples, they have some systematic differences from MRI which we try to recover here. First they often drift apart at the hippocampal sulcus, making it much wider. secondly, they are often dehydrated making the grey matter labels disproportionately thinner. Third, they often don't have separate labels for cysts, so we introduce some here scattered throughout the SRLM."
   ]
  },
  {
   "cell_type": "code",
   "execution_count": 1,
   "metadata": {},
   "outputs": [],
   "source": [
    "import ants\n",
    "import nibabel as nib\n",
    "import numpy as np\n",
    "import os\n",
    "from scipy.ndimage import binary_dilation, binary_erosion\n",
    "import random"
   ]
  },
  {
   "cell_type": "code",
   "execution_count": 2,
   "metadata": {},
   "outputs": [
    {
     "data": {
      "text/plain": [
       "['labelmaps/img00.nii.gz',\n",
       " 'labelmaps/img01.nii.gz',\n",
       " 'labelmaps/img02.nii.gz',\n",
       " 'labelmaps/img03.nii.gz',\n",
       " 'labelmaps/img04.nii.gz',\n",
       " 'labelmaps/img05.nii.gz',\n",
       " 'labelmaps/img06.nii.gz',\n",
       " 'labelmaps/img07.nii.gz',\n",
       " 'labelmaps/img08.nii.gz',\n",
       " 'labelmaps/img09.nii.gz',\n",
       " 'labelmaps/img10.nii.gz',\n",
       " 'labelmaps/img11.nii.gz',\n",
       " 'labelmaps/img12.nii.gz',\n",
       " 'labelmaps/img13.nii.gz',\n",
       " 'labelmaps/img14.nii.gz',\n",
       " 'labelmaps/img15.nii.gz',\n",
       " 'labelmaps/img16.nii.gz',\n",
       " 'labelmaps/img17.nii.gz',\n",
       " 'labelmaps/img18.nii.gz',\n",
       " 'labelmaps/img19.nii.gz',\n",
       " 'labelmaps/img20.nii.gz',\n",
       " 'labelmaps/img21.nii.gz',\n",
       " 'labelmaps/img22.nii.gz',\n",
       " 'labelmaps/img23.nii.gz',\n",
       " 'labelmaps/img24.nii.gz',\n",
       " 'labelmaps/img25.nii.gz',\n",
       " 'labelmaps/img26.nii.gz',\n",
       " 'labelmaps/img27.nii.gz',\n",
       " 'labelmaps/img28.nii.gz',\n",
       " 'labelmaps/img29.nii.gz',\n",
       " 'labelmaps/img30.nii.gz',\n",
       " 'labelmaps/img31.nii.gz',\n",
       " 'labelmaps/img32.nii.gz',\n",
       " 'labelmaps/img33.nii.gz',\n",
       " 'labelmaps/img34.nii.gz',\n",
       " 'labelmaps/img35.nii.gz',\n",
       " 'labelmaps/img36.nii.gz',\n",
       " 'labelmaps/img37.nii.gz',\n",
       " 'labelmaps/img38.nii.gz',\n",
       " 'labelmaps/img39.nii.gz',\n",
       " 'labelmaps/img40.nii.gz',\n",
       " 'labelmaps/img41.nii.gz']"
      ]
     },
     "execution_count": 2,
     "metadata": {},
     "output_type": "execute_result"
    }
   ],
   "source": [
    "lbls = !ls labelmaps/*.nii.gz\n",
    "lbls"
   ]
  },
  {
   "cell_type": "code",
   "execution_count": 3,
   "metadata": {},
   "outputs": [],
   "source": [
    "def fast_morph(image, labels, radius=1, preserve=[]):\n",
    "    '''\n",
    "    Note that if radius is negative, the label is actually being thinned. Since the registration is smooth, the actual deformation is smaller than the radius\n",
    "    '''\n",
    "    img = image.get_fdata().astype(int)\n",
    "    mask = np.isin(img, labels).astype(float)\n",
    "    if radius > 0:\n",
    "        dilated_mask = binary_dilation(mask, iterations=np.abs(radius)).astype(float)\n",
    "    else:\n",
    "        dilated_mask = binary_erosion(mask, iterations=np.abs(radius)).astype(float)\n",
    "    dilated_mask[np.isin(img, preserve)] = 0\n",
    "\n",
    "    dilated_mask = ants.from_numpy(dilated_mask)\n",
    "    mask = ants.from_numpy(mask)\n",
    "    img = ants.from_numpy(img)\n",
    "\n",
    "    outprefix = \"/dev/shm/transform\"\n",
    "    reg = ants.registration(\n",
    "        dilated_mask, mask, type_of_transform='SyNOnly',\n",
    "        reg_iterations=[np.abs(radius)*4,0],syn_metric='demons',grad_step=0.5,\n",
    "        outprefix=outprefix,\n",
    "    )\n",
    "    img_deformed = ants.apply_transforms(\n",
    "        img, img, reg['fwdtransforms'], interpolator='genericLabel'\n",
    "    )\n",
    "    dilated_mask = img_deformed.numpy()\n",
    "    for f in reg['fwdtransforms']:\n",
    "        os.remove(f)\n",
    "\n",
    "    return nib.Nifti1Image(dilated_mask, affine=image.affine, header=image.header)\n",
    "\n",
    "def add_cysts(image, cyst_label, labels_in, ncysts, radius=2):\n",
    "    img = image.get_fdata()\n",
    "\n",
    "    possible_seeds = np.argwhere(np.isin(img, labels_in))\n",
    "    seed_idxs = np.random.choice(len(possible_seeds), ncysts, replace=False)\n",
    "    seeds = possible_seeds[seed_idxs]\n",
    "    cysts = np.zeros_like(img)\n",
    "    for seed in seeds:\n",
    "        x,y,z = seed\n",
    "        cysts[x,y,z] = 1\n",
    "        \n",
    "    # dilate all cysts\n",
    "    cysts = binary_dilation(cysts, iterations=np.abs(radius))\n",
    "    # remove cysts outside of labels_in\n",
    "    cysts[~np.isin(img, labels_in)] = 0\n",
    "\n",
    "    img[cysts==1] = cyst_label\n",
    "\n",
    "    return nib.Nifti1Image(img, affine=image.affine, header=image.header)"
   ]
  },
  {
   "cell_type": "code",
   "execution_count": 4,
   "metadata": {},
   "outputs": [],
   "source": [
    "# make a copy with a thinned srlm\n",
    "i = len(lbls)\n",
    "for lbl in lbls:\n",
    "    image = nib.load(lbl)\n",
    "    image = fast_morph(image, [7], radius=-1)\n",
    "    nib.save(image, f\"labelmaps/img{i:02d}.nii.gz\")\n",
    "    i+=1"
   ]
  },
  {
   "cell_type": "code",
   "execution_count": 5,
   "metadata": {},
   "outputs": [],
   "source": [
    "# make a copy with a thicker hipp \n",
    "for lbl in lbls:\n",
    "    image = nib.load(lbl)\n",
    "    image = fast_morph(image, [1,2,3,4], radius=2)\n",
    "    nib.save(image, f\"labelmaps/img{i:02d}.nii.gz\")\n",
    "    i+=1"
   ]
  },
  {
   "cell_type": "code",
   "execution_count": 7,
   "metadata": {},
   "outputs": [],
   "source": [
    "# for all of the above cases, also randomly add some cysts [8] only in srlm [7]\n",
    "lbls = !ls labelmaps/*.nii.gz\n",
    "for lbl in lbls:\n",
    "    for ncysts in [5,10,15]:\n",
    "        for cysts_rad in [2,4]:\n",
    "            image = nib.load(lbl)\n",
    "            image = add_cysts(image, [8], [7], ncysts, radius=cysts_rad)\n",
    "            nib.save(image, f\"labelmaps/img{i:02d}.nii.gz\")\n",
    "            i+=1"
   ]
  },
  {
   "cell_type": "code",
   "execution_count": null,
   "metadata": {},
   "outputs": [],
   "source": []
  }
 ],
 "metadata": {
  "kernelspec": {
   "display_name": "venv",
   "language": "python",
   "name": "python3"
  },
  "language_info": {
   "codemirror_mode": {
    "name": "ipython",
    "version": 3
   },
   "file_extension": ".py",
   "mimetype": "text/x-python",
   "name": "python",
   "nbconvert_exporter": "python",
   "pygments_lexer": "ipython3",
   "version": "3.9.7"
  }
 },
 "nbformat": 4,
 "nbformat_minor": 2
}
